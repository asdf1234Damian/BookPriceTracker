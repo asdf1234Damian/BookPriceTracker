{
 "nbformat": 4,
 "nbformat_minor": 2,
 "metadata": {
  "language_info": {
   "name": "python",
   "codemirror_mode": {
    "name": "ipython",
    "version": 3
   },
   "version": "3.6.4-final"
  },
  "orig_nbformat": 2,
  "file_extension": ".py",
  "mimetype": "text/x-python",
  "name": "python",
  "npconvert_exporter": "python",
  "pygments_lexer": "ipython3",
  "version": 3,
  "kernelspec": {
   "name": "python36432bit890c9d5ee7814d518477ff0b5212332d",
   "display_name": "Python 3.6.4 32-bit"
  }
 },
 "cells": [
  {
   "cell_type": "code",
   "execution_count": 18,
   "metadata": {},
   "outputs": [
    {
     "output_type": "error",
     "ename": "SyntaxError",
     "evalue": "invalid syntax (<ipython-input-18-1c7774359ffb>, line 32)",
     "traceback": [
      "\u001b[1;36m  File \u001b[1;32m\"<ipython-input-18-1c7774359ffb>\"\u001b[1;36m, line \u001b[1;32m32\u001b[0m\n\u001b[1;33m    or item in mostChange.most_common(30len(mostChange)\u001b[0m\n\u001b[1;37m     ^\u001b[0m\n\u001b[1;31mSyntaxError\u001b[0m\u001b[1;31m:\u001b[0m invalid syntax\n"
     ]
    }
   ],
   "source": [
    "%matplotlib inline\n",
    "import pandas as pd\n",
    "import numpy as np\n",
    "from sklearn.preprocessing import MinMaxScaler\n",
    "from collections import Counter\n",
    "df = pd.read_csv('./priceData.csv') \n",
    "import matplotlib.pyplot as plt\n",
    "fig = plt.figure(figsize=(20,10))\n",
    "plt.ylim((0,1000))\n",
    "plt.yticks(range(0,1000,100))\n",
    "plt.grid(True)\n",
    "\n",
    "titlesMap = {title : [[],[]] for title in df['title'].unique()}\n",
    "for row in df.iterrows():\n",
    "    title = row[1]['title']\n",
    "    titlesMap[title][0].append(row[1]['price'])\n",
    "    titlesMap[title][1].append(row[1]['date'])\n",
    "\n",
    "mostChange = Counter()\n",
    "for key, val in titlesMap.items():\n",
    "    priceDelta = titlesMap[key][0][-2] - titlesMap[key][0][-1] if len(titlesMap[key][0])>2 else 0\n",
    "    if priceDelta != 0:\n",
    "        mostChange[key] = priceDelta\n",
    "\n",
    "deltas = [delta for title, delta in mostChange.most_common(len(mostChange))]\n",
    "deltas = np.array(deltas).reshape(-1,1)\n",
    "scaler = MinMaxScaler((0,1))\n",
    "deltas = scaler.fit_transform(deltas)\n",
    "deltas = [x[0] if x[0]<1 else 1 for x in deltas]\n",
    "i = 0\n",
    "f\n",
    "or item in mostChange.most_common(30len(mostChange) \n",
    "    title = item[0]\n",
    "    prices = titlesMap[title][0]\n",
    "    dates = titlesMap[title][1]\n",
    "    priceDelta = (prices[-1] - prices[-2]) if len(prices) > 2 else 0\n",
    "    dev = 10 * np.std(prices)/np.mean(prices)\n",
    "    dev = 1 if dev > 1 else dev\n",
    "    label = (('▲' if (priceDelta > 0 ) else '▼ ') + '{:.2f}'.format(priceDelta)) \n",
    "    label = f'{title[:15].ljust(16)}... : ${prices[-1]} {label.rjust(8)}'\n",
    "    plt.plot(dates,prices, linestyle='-', alpha = deltas[i] ,marker = 'o', label = label)\n",
    "    i+=1\n",
    "leg = plt.legend(loc= 'lower center',mode='expand',ncol = 3,shadow=True, fancybox=True)\n",
    "leg.get_frame().set_alpha(0.5)\n",
    "fig.savefig('todaysPlot.png',transparent=True)"
   ]
  },
  {
   "cell_type": "code",
   "execution_count": null,
   "metadata": {},
   "outputs": [],
   "source": []
  }
 ]
}